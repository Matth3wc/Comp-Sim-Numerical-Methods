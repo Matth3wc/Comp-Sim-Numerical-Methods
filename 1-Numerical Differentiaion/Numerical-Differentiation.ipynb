{
 "cells": [
  {
   "cell_type": "markdown",
   "metadata": {},
   "source": [
    "1. Numerical Differentiation\n",
    "\n",
    "Forward/Backward/Central vs. Truth\n",
    "\n",
    "Objective: Compare finite-difference schemes and empirically recover error orders.\n",
    "\n",
    "Core Concept: Forward, backward, and central differences; error order.\n",
    "\n",
    "Task: Implement derivatives using forward, backward, central schemes. Sweep step sizes and\n",
    "compute error against analytic derivative. Plot error vs. h on log–log scale and confirm orders.\n",
    "\n",
    "Learning Outcome: Understand stencil accuracy and confirm error orders."
   ]
  },
  {
   "cell_type": "code",
   "execution_count": 4,
   "metadata": {},
   "outputs": [],
   "source": [
    "import numpy as np\n",
    "import matplotlib.pyplot as plt"
   ]
  },
  {
   "cell_type": "markdown",
   "metadata": {},
   "source": [
    "Forward Difference Approximation\n",
    "\n",
    "$f'(x)=\\frac{f(x+h)-f(x)}{h}+O(h)$"
   ]
  },
  {
   "cell_type": "code",
   "execution_count": 5,
   "metadata": {},
   "outputs": [],
   "source": [
    "def forward_difference(f, x, h=1e-5):\n",
    "    \"\"\"Compute the forward difference approximation of the derivative.\"\"\"\n",
    "    return (f(x + h) - f(x)) / h\n",
    "\n",
    "forward_difference.__name__ = \"forward difference\""
   ]
  },
  {
   "cell_type": "markdown",
   "metadata": {},
   "source": [
    "Backward Difference Approximation\n",
    "\n",
    "$f'(x)=\\frac{f(x)-f(x-h)}{h} + O(h)$ "
   ]
  },
  {
   "cell_type": "code",
   "execution_count": 6,
   "metadata": {},
   "outputs": [],
   "source": [
    "def backward_difference(f, x, h=1e-5):\n",
    "    \"\"\"Compute the backward difference approximation of the derivative.\"\"\"\n",
    "    return (f(x) - f(x - h)) / h\n",
    "\n",
    "backward_difference.__name__ = \"backwards difference\""
   ]
  },
  {
   "cell_type": "markdown",
   "metadata": {},
   "source": [
    "Both forward and backward methods have errors on the order of $O(h)$. \n",
    "\n",
    "However, If we take the sumation of the two methods, we can reduce the error to the order $O(h^2)$, this is becasue all the odd power terms cancel eachother due to a sign difference.\n",
    "\n",
    "Take the taylor expansion of $f(x+h)$,\n",
    "\n",
    "$f(x+h)=f(x)+hf'(x)+\\frac{h^2}{2!}f''(x)+\\frac{h^3}{3!}f'''(x)+ \\dots$\n",
    "\n",
    "And again of $f(x-h)$\n",
    "\n",
    "$f(x+h)=f(x)-hf'(x)+\\frac{h^2}{2!}f''(x)-\\frac{h^3}{3!}f'''(x)+ \\dots$\n",
    "\n",
    "No we combine them to make the central difference equation, and as mentioned before, the odd error terms drop out.\n",
    "\n",
    "$f'(x)=\\frac{f(x+h)-f(x-h)}{2h}+O(h^2)$\n",
    "\n"
   ]
  },
  {
   "cell_type": "markdown",
   "metadata": {},
   "source": [
    "Now, below is the central difference method implemented as described above."
   ]
  },
  {
   "cell_type": "code",
   "execution_count": 7,
   "metadata": {},
   "outputs": [],
   "source": [
    "def central_difference(f, x, h=1e-5):\n",
    "    \"\"\"Compute the central difference approximation of the derivative.\"\"\"\n",
    "    return (f(x+h) - f(x - h)) / (2*h)\n",
    "\n",
    "central_difference.__name__ = \"central difference\""
   ]
  },
  {
   "cell_type": "markdown",
   "metadata": {},
   "source": [
    "Lets now compare the various methods, by way of observing their graphs aswell as their absolute error for a range of functions $f(x)$"
   ]
  },
  {
   "cell_type": "code",
   "execution_count": 8,
   "metadata": {},
   "outputs": [],
   "source": [
    "funcs = [forward_difference, backward_difference, central_difference]            \n",
    "labels = [f.__name__ for f in funcs]  "
   ]
  },
  {
   "cell_type": "code",
   "execution_count": null,
   "metadata": {},
   "outputs": [],
   "source": [
    "#================= example usage ==============================\n",
    "def diff_methods_vs_analytical(f, h=1e-5):\n",
    "    x = np.linspace(-2, 2, 4000)\n",
    "\n",
    "    for f, name in zip(funcs, labels):\n",
    "    y = f(x)                                      # works if your f handles NumPy arrays\n",
    "    ax.plot(x, y, label=name)"
   ]
  },
  {
   "cell_type": "code",
   "execution_count": 10,
   "metadata": {},
   "outputs": [
    {
     "ename": "NameError",
     "evalue": "name 'a' is not defined",
     "output_type": "error",
     "traceback": [
      "\u001b[0;31m---------------------------------------------------------------------------\u001b[0m",
      "\u001b[0;31mNameError\u001b[0m                                 Traceback (most recent call last)",
      "Input \u001b[0;32mIn [10]\u001b[0m, in \u001b[0;36m<cell line: 1>\u001b[0;34m()\u001b[0m\n\u001b[0;32m----> 1\u001b[0m \u001b[43mdiff_methods_vs_analytical\u001b[49m\u001b[43m(\u001b[49m\u001b[43mnp\u001b[49m\u001b[38;5;241;43m.\u001b[39;49m\u001b[43msin\u001b[49m\u001b[43m)\u001b[49m\n",
      "Input \u001b[0;32mIn [9]\u001b[0m, in \u001b[0;36mdiff_methods_vs_analytical\u001b[0;34m(f, h)\u001b[0m\n\u001b[1;32m     16\u001b[0m plt\u001b[38;5;241m.\u001b[39mxlabel(\u001b[38;5;124m'\u001b[39m\u001b[38;5;124mx\u001b[39m\u001b[38;5;124m'\u001b[39m)\n\u001b[1;32m     17\u001b[0m plt\u001b[38;5;241m.\u001b[39mylabel(\u001b[38;5;124m'\u001b[39m\u001b[38;5;124mf(x)\u001b[39m\u001b[38;5;124m'\u001b[39m)\n\u001b[0;32m---> 18\u001b[0m plt\u001b[38;5;241m.\u001b[39mxlim(\u001b[38;5;241m-\u001b[39m\u001b[38;5;241m2\u001b[39m\u001b[38;5;241m+\u001b[39m\u001b[43ma\u001b[49m, \u001b[38;5;241m2\u001b[39m\u001b[38;5;241m+\u001b[39ma)\n\u001b[1;32m     19\u001b[0m plt\u001b[38;5;241m.\u001b[39mylim(\u001b[38;5;241m-\u001b[39m\u001b[38;5;241m4\u001b[39m, \u001b[38;5;241m4\u001b[39m)\n\u001b[1;32m     20\u001b[0m plt\u001b[38;5;241m.\u001b[39maxhline(\u001b[38;5;241m0\u001b[39m, color\u001b[38;5;241m=\u001b[39m\u001b[38;5;124m'\u001b[39m\u001b[38;5;124mblack\u001b[39m\u001b[38;5;124m'\u001b[39m,linewidth\u001b[38;5;241m=\u001b[39m\u001b[38;5;241m0.5\u001b[39m, ls\u001b[38;5;241m=\u001b[39m\u001b[38;5;124m'\u001b[39m\u001b[38;5;124m--\u001b[39m\u001b[38;5;124m'\u001b[39m)\n",
      "\u001b[0;31mNameError\u001b[0m: name 'a' is not defined"
     ]
    },
    {
     "data": {
      "image/png": "[encoded data removed]",
      "text/plain": [
       "<Figure size 720x432 with 1 Axes>"
      ]
     },
     "metadata": {
      "needs_background": "light"
     },
     "output_type": "display_data"
    }
   ],
   "source": [
    "diff_methods_vs_analytical(np.sin)"
   ]
  },
  {
   "cell_type": "code",
   "execution_count": null,
   "metadata": {},
   "outputs": [],
   "source": []
  }
 ],
 "metadata": {
  "kernelspec": {
   "display_name": "Python (Anaconda + Cython)",
   "language": "python",
   "name": "anaconda-cython"
  },
  "language_info": {
   "codemirror_mode": {
    "name": "ipython",
    "version": 3
   },
   "file_extension": ".py",
   "mimetype": "text/x-python",
   "name": "python",
   "nbconvert_exporter": "python",
   "pygments_lexer": "ipython3",
   "version": "3.9.12"
  }
 },
 "nbformat": 4,
 "nbformat_minor": 2
}
