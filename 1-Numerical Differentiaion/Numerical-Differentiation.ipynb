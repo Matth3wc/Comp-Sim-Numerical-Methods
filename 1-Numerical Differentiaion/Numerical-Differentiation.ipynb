{
 "cells": [
  {
   "cell_type": "markdown",
   "metadata": {},
   "source": [
    "1. Numerical Differentiation\n",
    "\n",
    "Forward/Backward/Central vs. Truth\n",
    "\n",
    "Objective: Compare finite-difference schemes and empirically recover error orders.\n",
    "\n",
    "Core Concept: Forward, backward, and central differences; error order.\n",
    "\n",
    "Task: Implement derivatives using forward, backward, central schemes. Sweep step sizes and\n",
    "compute error against analytic derivative. Plot error vs. h on log–log scale and confirm orders.\n",
    "\n",
    "Learning Outcome: Understand stencil accuracy and confirm error orders."
   ]
  },
  {
   "cell_type": "code",
   "execution_count": 1,
   "metadata": {},
   "outputs": [],
   "source": [
    "import numpy as np\n",
    "import matplotlib.pyplot as plt"
   ]
  },
  {
   "cell_type": "markdown",
   "metadata": {},
   "source": [
    "Forward Difference Approximation\n",
    "\n",
    "$f'(x)=\\frac{f(x+h)-f(x)}{h}+O(h)$"
   ]
  },
  {
   "cell_type": "code",
   "execution_count": 2,
   "metadata": {},
   "outputs": [],
   "source": [
    "def forward_difference(f, x, h=1e-5):\n",
    "    \"\"\"Compute the forward difference approximation of the derivative.\"\"\"\n",
    "    return (f(x + h) - f(x)) / h"
   ]
  },
  {
   "cell_type": "markdown",
   "metadata": {},
   "source": [
    "Backward Difference Approximation\n",
    "\n",
    "$f'(x)=\\frac{f(x)-f(x-h)}{h} + O(h)$ "
   ]
  },
  {
   "cell_type": "code",
   "execution_count": 3,
   "metadata": {},
   "outputs": [],
   "source": [
    "def backward_difference(f, x, h=1e-5):\n",
    "    \"\"\"Compute the backward difference approximation of the derivative.\"\"\"\n",
    "    return (f(x) - f(x - h)) / h"
   ]
  },
  {
   "cell_type": "markdown",
   "metadata": {},
   "source": [
    "Both forward and backward methods have errors on the order of $O(h)$. \n",
    "\n",
    "However, If we take the sumation of the two methods, we can reduce the error to the order $O(h^2)$, this is becasue all the odd power terms cancel eachother due to a sign difference.\n",
    "\n",
    "Take the taylor expansion of $f(x+h)$,\n",
    "\n",
    "$f(x+h)=f(x)+hf'(x)+\\frac{h^2}{2!}f''(x)+\\frac{h^3}{3!}f'''(x)+ \\dots$\n",
    "\n",
    "And again of $f(x-h)$\n",
    "\n",
    "$f(x+h)=f(x)-hf'(x)+\\frac{h^2}{2!}f''(x)-\\frac{h^3}{3!}f'''(x)+ \\dots$\n",
    "\n",
    "No we combine them to make the central difference equation, and as mentioned before, the odd error terms drop out.\n",
    "\n",
    "$f'(x)=\\frac{f(x+h)-f(x-h)}{2h}+O(h^2)$\n",
    "\n"
   ]
  },
  {
   "cell_type": "markdown",
   "metadata": {},
   "source": []
  }
 ],
 "metadata": {
  "kernelspec": {
   "display_name": "Python (Anaconda + Cython)",
   "language": "python",
   "name": "anaconda-cython"
  },
  "language_info": {
   "codemirror_mode": {
    "name": "ipython",
    "version": 3
   },
   "file_extension": ".py",
   "mimetype": "text/x-python",
   "name": "python",
   "nbconvert_exporter": "python",
   "pygments_lexer": "ipython3",
   "version": "3.9.12"
  }
 },
 "nbformat": 4,
 "nbformat_minor": 2
}
