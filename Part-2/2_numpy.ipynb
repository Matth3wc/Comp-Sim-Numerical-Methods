{
 "cells": [
  {
   "cell_type": "markdown",
   "id": "32e3f9ca-6386-463a-880f-7e42245fac8c",
   "metadata": {
    "editable": true,
    "slideshow": {
     "slide_type": "slide"
    },
    "tags": []
   },
   "source": [
    "---\n",
    "# 2. The NumPy library\n",
    "\n",
    "**PUY33C01 Computer Simulation I - Part 2, Computational Methods (Christie)**\t\n",
    "\n",
    "---"
   ]
  },
  {
   "cell_type": "markdown",
   "id": "102e2314-3da3-4890-a0e6-b5bfd20e20d7",
   "metadata": {
    "editable": true,
    "slideshow": {
     "slide_type": "slide"
    },
    "tags": []
   },
   "source": [
    "---\n",
    "## What are the objectives of this section?\n",
    "\n",
    "* Understand the scope of the _numpy_ library\n",
    "* Apply _numpy_ 1D and 2D arrays to speed up code\n",
    "* Offer some words of caution on array use\n",
    "* When not to use NumPy arrays\n"
   ]
  },
  {
   "cell_type": "markdown",
   "id": "b96f112c-a3cb-493b-9bec-8a857ab474c5",
   "metadata": {
    "editable": true,
    "slideshow": {
     "slide_type": "slide"
    },
    "tags": []
   },
   "source": [
    "---\n",
    "## NumPy scope\n",
    "\n",
    "### General properties\n",
    "Documentation for the _numpy_ library can be found [here](https://numpy.org/doc/stable/)\n",
    "\n",
    "_NumPy_ is the fundamental package for scientific computing in Python. \n",
    "\n",
    "* It is a Python library that provides a multidimensional array object, various derived objects (such as masked arrays and matrices)\n"
   ]
  },
  {
   "cell_type": "markdown",
   "id": "9b21cf56-7fb3-4103-be7c-8a432890e3bb",
   "metadata": {
    "editable": true,
    "slideshow": {
     "slide_type": "slide"
    },
    "tags": []
   },
   "source": [
    "---\n",
    "* It provides an assortment of routines for fast operations on arrays, including\n",
    "    * mathematical\n",
    "    * logical\n",
    "    * shape manipulation\n",
    "    * sorting\n",
    "    * selecting\n",
    "    * I/O\n",
    "    * discrete Fourier transforms\n",
    "    * basic linear algebra\n",
    "    * basic statistical operations\n",
    "    * random simulation\n",
    "and much more"
   ]
  },
  {
   "cell_type": "markdown",
   "id": "cb9dc025-5069-4f41-92ac-8a8bc24bd789",
   "metadata": {
    "editable": true,
    "slideshow": {
     "slide_type": "slide"
    },
    "tags": []
   },
   "source": [
    "---\n",
    "* _numpy_ arrays have a fixed size at creation, unlike Python lists (which can grow dynamically)\n",
    "* Changing the size of an ndarray will create a new array and delete the original.\n",
    "* The elements in a _numpy_ array are all required to be of the same data type, and thus will be the same size in memory."
   ]
  },
  {
   "cell_type": "markdown",
   "id": "f1789298-3293-447c-afba-92b93ae8b23e",
   "metadata": {
    "editable": true,
    "slideshow": {
     "slide_type": "slide"
    },
    "tags": []
   },
   "source": [
    "* _numpy_ arrays facilitate advanced mathematical and other types of operations on large numbers of data.\n",
    "* Typically, such operations are executed more efficiently and with less code than is possible using Python’s built-in sequences.\n",
    "* A growing plethora of scientific and mathematical Python-based packages are using _numpy_ arrays\n",
    "    * though these typically support Python-sequence input, they convert such input to _numpy_ arrays prior to processing\n",
    "    * they often output _numpy_ arrays.\n",
    "* In order to efficiently use much (perhaps even most) of today’s scientific/mathematical Python-based software, just knowing how to use Python’s built-in sequence types is insufficient - one also needs to know how to use _numpy_ arrays."
   ]
  },
  {
   "cell_type": "markdown",
   "id": "83d5e72e-23f9-4d3b-a098-b2146fd8b491",
   "metadata": {
    "editable": true,
    "slideshow": {
     "slide_type": "slide"
    },
    "tags": []
   },
   "source": [
    "### Import\n",
    "\n",
    "Import the _numpy_ library and some additional libraries to generate useful code"
   ]
  },
  {
   "cell_type": "code",
   "execution_count": 1,
   "id": "70d07297-a645-4190-895c-70b65ab69be0",
   "metadata": {
    "editable": true,
    "slideshow": {
     "slide_type": "fragment"
    },
    "tags": []
   },
   "outputs": [],
   "source": [
    "import numpy as np\n",
    "import pylab as pl\n",
    "from time import time\n",
    "from numpy.random import seed, random, normal\n",
    "from numpy import linalg as la\n",
    "import matplotlib.pyplot as plt"
   ]
  },
  {
   "cell_type": "markdown",
   "id": "10614c8b-cdbe-43aa-bd5d-78afa3984f2b",
   "metadata": {
    "editable": true,
    "slideshow": {
     "slide_type": "slide"
    },
    "tags": []
   },
   "source": [
    "---\n",
    "## Arrays\n",
    "\n",
    "Perhaps the most important and most used feature of the _numpy_ library is that it enables the use of _arrays_.\n",
    "\n",
    "One-dimensional arrays are vectors "
   ]
  },
  {
   "cell_type": "code",
   "execution_count": 2,
   "id": "b0708130-c4ad-4d70-89c9-dd68dcab61c4",
   "metadata": {
    "editable": true,
    "slideshow": {
     "slide_type": "fragment"
    },
    "tags": []
   },
   "outputs": [
    {
     "name": "stdout",
     "output_type": "stream",
     "text": [
      "v =  [0 1 2 3]\n"
     ]
    }
   ],
   "source": [
    "v = np.array([0,1,2,3])\n",
    "print('v = ',v)"
   ]
  },
  {
   "cell_type": "markdown",
   "id": "90824434-3e68-4a63-9f96-e93b58fd2d30",
   "metadata": {
    "editable": true,
    "slideshow": {
     "slide_type": "slide"
    },
    "tags": []
   },
   "source": [
    "### Two-dimensional arrays are matrices"
   ]
  },
  {
   "cell_type": "code",
   "execution_count": 3,
   "id": "fea25b3b-9914-48ae-8498-5d9027ef17b3",
   "metadata": {
    "editable": true,
    "slideshow": {
     "slide_type": "fragment"
    },
    "tags": []
   },
   "outputs": [
    {
     "name": "stdout",
     "output_type": "stream",
     "text": [
      "M= [[0 1 2]\n",
      " [3 4 5]\n",
      " [6 7 8]]\n"
     ]
    }
   ],
   "source": [
    "M = np.array([[0,1,2],[3,4,5],[6,7,8]])\n",
    "print('M=',M)"
   ]
  },
  {
   "cell_type": "markdown",
   "id": "2c714d72-9c40-4b53-aebb-ffe9974603b1",
   "metadata": {
    "editable": true,
    "slideshow": {
     "slide_type": "slide"
    },
    "tags": []
   },
   "source": [
    "Evenly spaced arrays can be generated with _arange_"
   ]
  },
  {
   "cell_type": "code",
   "execution_count": 4,
   "id": "3faf4875-c677-4423-b1d0-96000a58f673",
   "metadata": {
    "editable": true,
    "slideshow": {
     "slide_type": "fragment"
    },
    "tags": []
   },
   "outputs": [
    {
     "name": "stdout",
     "output_type": "stream",
     "text": [
      "w= [0.  0.1 0.2 0.3 0.4 0.5 0.6 0.7 0.8 0.9]\n"
     ]
    }
   ],
   "source": [
    "w = np.arange(0,1,0.1)\n",
    "print('w=',w)"
   ]
  },
  {
   "cell_type": "markdown",
   "id": "1a2fbb64-b545-4da2-b771-d66bc903c416",
   "metadata": {
    "editable": true,
    "slideshow": {
     "slide_type": "slide"
    },
    "tags": []
   },
   "source": [
    "Arrays can be accessed using indexing and slicing\n",
    "\n",
    "* Python uses zero-based indexing\n",
    "* first index is are rows, second index columns\n",
    "* Negative indices wrap around"
   ]
  },
  {
   "cell_type": "code",
   "execution_count": 5,
   "id": "539a02bd-64f9-4efe-8429-9e6da3e471bf",
   "metadata": {
    "editable": true,
    "slideshow": {
     "slide_type": "fragment"
    },
    "tags": []
   },
   "outputs": [
    {
     "name": "stdout",
     "output_type": "stream",
     "text": [
      "0\n"
     ]
    }
   ],
   "source": [
    "print(v[0])"
   ]
  },
  {
   "cell_type": "code",
   "execution_count": 6,
   "id": "477543fb-8018-4ce5-96d6-f5848cf50272",
   "metadata": {
    "editable": true,
    "slideshow": {
     "slide_type": "fragment"
    },
    "tags": []
   },
   "outputs": [
    {
     "name": "stdout",
     "output_type": "stream",
     "text": [
      "3\n"
     ]
    }
   ],
   "source": [
    "print(v[-1])"
   ]
  },
  {
   "cell_type": "code",
   "execution_count": 7,
   "id": "0956b790-52b3-4933-84a4-93be186ae0d5",
   "metadata": {
    "editable": true,
    "slideshow": {
     "slide_type": "fragment"
    },
    "tags": []
   },
   "outputs": [
    {
     "name": "stdout",
     "output_type": "stream",
     "text": [
      "5\n"
     ]
    }
   ],
   "source": [
    "print(M[1,-1])"
   ]
  },
  {
   "cell_type": "markdown",
   "id": "4e5b395a-7e80-4f51-9765-cacd9fa98aee",
   "metadata": {
    "editable": true,
    "slideshow": {
     "slide_type": "slide"
    },
    "tags": []
   },
   "source": [
    "### Multi-dimensional arrays\n",
    "\n",
    "If you index a multi-dimensional array with fewer indices than dimensions, you gets a sub-dimensional array"
   ]
  },
  {
   "cell_type": "code",
   "execution_count": 8,
   "id": "ee4891bf-9ebb-49b6-a5a4-7b7a76a33702",
   "metadata": {
    "editable": true,
    "slideshow": {
     "slide_type": "fragment"
    },
    "tags": []
   },
   "outputs": [
    {
     "name": "stdout",
     "output_type": "stream",
     "text": [
      "M[0]= [0 1 2]\n"
     ]
    }
   ],
   "source": [
    "print('M[0]=',M[0])"
   ]
  },
  {
   "cell_type": "markdown",
   "id": "2c4ae4dd-9ded-41a1-b496-f9cf4fd33a03",
   "metadata": {
    "editable": true,
    "slideshow": {
     "slide_type": "slide"
    },
    "tags": []
   },
   "source": [
    "## Slicing\n",
    "\n",
    "* A slice is: [start:end].\n",
    "* Also defined with a step: [start:end:step].\n",
    "* If we don't pass start its considered 0\n",
    "* If we don't pass end its considered length of array in that dimension\n",
    "* If we don't pass step its considered 1"
   ]
  },
  {
   "cell_type": "code",
   "execution_count": 9,
   "id": "9e4a286e-fcd5-4e6e-8e80-71e1e4463f1f",
   "metadata": {
    "editable": true,
    "slideshow": {
     "slide_type": "fragment"
    },
    "tags": []
   },
   "outputs": [
    {
     "name": "stdout",
     "output_type": "stream",
     "text": [
      "[5 6 7]\n"
     ]
    }
   ],
   "source": [
    "arr = np.array([1, 2, 3, 4, 5, 6, 7])\n",
    "print(arr[4:])"
   ]
  },
  {
   "cell_type": "markdown",
   "id": "d740c8a5-9255-4ba1-8af6-780f790260d2",
   "metadata": {
    "editable": true,
    "slideshow": {
     "slide_type": "slide"
    },
    "tags": []
   },
   "source": [
    "## Mutability\n",
    "\n",
    "Arrays are mutable, meaning you can change the value of an element in an array after it has been created"
   ]
  },
  {
   "cell_type": "code",
   "execution_count": 10,
   "id": "9ad9bf0f-989f-4de4-97a2-8e9c46d81ec4",
   "metadata": {
    "editable": true,
    "slideshow": {
     "slide_type": "fragment"
    },
    "tags": []
   },
   "outputs": [
    {
     "name": "stdout",
     "output_type": "stream",
     "text": [
      "arr= [1 8 3 4 5 6 7]\n"
     ]
    }
   ],
   "source": [
    "arr = np.array([1, 2, 3, 4, 5, 6, 7])\n",
    "arr[1]=8\n",
    "print('arr=',arr)"
   ]
  },
  {
   "cell_type": "markdown",
   "id": "76b8421c-c972-4879-a207-ec40c1611d93",
   "metadata": {
    "editable": true,
    "slideshow": {
     "slide_type": "slide"
    },
    "tags": []
   },
   "source": [
    "## Matrix-vector multiplication\n",
    "\n",
    "Matrix-vector multiplication is performed using the _dot_ command"
   ]
  },
  {
   "cell_type": "code",
   "execution_count": 11,
   "id": "0f08cda3-a387-44f3-91fc-e0eba3a07b2b",
   "metadata": {
    "editable": true,
    "slideshow": {
     "slide_type": "fragment"
    },
    "tags": []
   },
   "outputs": [
    {
     "name": "stdout",
     "output_type": "stream",
     "text": [
      "u= [1 0]\n"
     ]
    }
   ],
   "source": [
    "M = np.array([[0,1],[1,0]])\n",
    "v = np.array([0,1])\n",
    "u=np.dot(M,v)\n",
    "print('u=',u)"
   ]
  },
  {
   "cell_type": "markdown",
   "id": "c616bbb4-3170-4c44-afc9-6f57e61d9371",
   "metadata": {
    "editable": true,
    "slideshow": {
     "slide_type": "slide"
    },
    "tags": []
   },
   "source": [
    "## Outer product\n",
    "\n",
    "The outer product is performed using the _cross_ command"
   ]
  },
  {
   "cell_type": "code",
   "execution_count": 12,
   "id": "7c0d2184-5cd5-40fd-8042-fa18b0ab9de7",
   "metadata": {
    "editable": true,
    "slideshow": {
     "slide_type": "fragment"
    },
    "tags": []
   },
   "outputs": [
    {
     "name": "stdout",
     "output_type": "stream",
     "text": [
      "o= [[0 1]\n",
      " [0 0]]\n"
     ]
    }
   ],
   "source": [
    "o=np.outer(u,v)\n",
    "print('o=',o)"
   ]
  },
  {
   "cell_type": "markdown",
   "id": "b13ad025-f646-4b41-af3d-f41408afb0df",
   "metadata": {
    "editable": true,
    "slideshow": {
     "slide_type": "slide"
    },
    "tags": []
   },
   "source": [
    "## Cross product\n",
    "and the cross product with _cross_"
   ]
  },
  {
   "cell_type": "code",
   "execution_count": 13,
   "id": "47ffb2a8-faaf-44fa-bae3-1065164a3e74",
   "metadata": {
    "editable": true,
    "slideshow": {
     "slide_type": "fragment"
    },
    "tags": []
   },
   "outputs": [
    {
     "name": "stdout",
     "output_type": "stream",
     "text": [
      "c= [0 1 0]\n"
     ]
    }
   ],
   "source": [
    "c=np.cross([0,0,1],[1,0,0])\n",
    "print('c=',c)"
   ]
  },
  {
   "cell_type": "markdown",
   "id": "f9b09505-c3de-4bc2-b689-e2c11718ef99",
   "metadata": {
    "editable": true,
    "slideshow": {
     "slide_type": "slide"
    },
    "tags": []
   },
   "source": [
    "## Re-shaping\n",
    "Matrices can be reshaped into vectors and vice-versa"
   ]
  },
  {
   "cell_type": "code",
   "execution_count": 14,
   "id": "2276d831-5415-4cf4-abf6-60fea37a7989",
   "metadata": {
    "editable": true,
    "slideshow": {
     "slide_type": "fragment"
    },
    "tags": []
   },
   "outputs": [
    {
     "name": "stdout",
     "output_type": "stream",
     "text": [
      "M_vec= [0 1 1 0]\n"
     ]
    }
   ],
   "source": [
    "M = np.array([[0,1],[1,0]])\n",
    "M_vec=np.reshape(M,4)\n",
    "print('M_vec=',M_vec)"
   ]
  },
  {
   "cell_type": "markdown",
   "id": "189cecf4-858e-4df1-b066-aa3bec252b0d",
   "metadata": {
    "editable": true,
    "slideshow": {
     "slide_type": "slide"
    },
    "tags": []
   },
   "source": [
    "### Other methods\n",
    "\n",
    "_numpy_ has various other useful methods for generating and manipulating matrices"
   ]
  },
  {
   "cell_type": "code",
   "execution_count": 15,
   "id": "d64507b2-0585-4022-aca1-1c0f1ceab4b5",
   "metadata": {
    "editable": true,
    "slideshow": {
     "slide_type": "fragment"
    },
    "tags": []
   },
   "outputs": [
    {
     "name": "stdout",
     "output_type": "stream",
     "text": [
      "[1. 2. 3. 4. 5.]\n",
      "[ 1.  2.  3. -1. -1.]\n"
     ]
    }
   ],
   "source": [
    "vec = np.linspace(1,5,5)\n",
    "print(vec)\n",
    "# Find the indices of specific array elements\n",
    "inds = np.nonzero(vec > 3)\n",
    "# Replace all elements greater than 5 with -1\n",
    "vec[inds] = -1\n",
    "print(vec)"
   ]
  },
  {
   "cell_type": "markdown",
   "id": "f54835f7-82d0-4ae8-8c28-0c3ecedf7c15",
   "metadata": {
    "editable": true,
    "slideshow": {
     "slide_type": "slide"
    },
    "tags": []
   },
   "source": [
    "---\n",
    "## _numpy_ functions\n",
    "\n",
    "NumPy contains a library of useful functions and constants"
   ]
  },
  {
   "cell_type": "code",
   "execution_count": 16,
   "id": "3c280cb4-bbc1-4a14-b8cb-c0b5ce6d3845",
   "metadata": {
    "editable": true,
    "slideshow": {
     "slide_type": "fragment"
    },
    "tags": []
   },
   "outputs": [
    {
     "name": "stdout",
     "output_type": "stream",
     "text": [
      "pi =  3.141592653589793\n",
      "sin(pi/2) =  1.0\n"
     ]
    }
   ],
   "source": [
    "print('pi = ', np.pi)\n",
    "print('sin(pi/2) = ', np.sin(np.pi/2))"
   ]
  },
  {
   "cell_type": "markdown",
   "id": "cca5c34c-a1e1-46a1-9e78-4269c4eaabcc",
   "metadata": {
    "editable": true,
    "slideshow": {
     "slide_type": "slide"
    },
    "tags": []
   },
   "source": [
    "### Element-wise application\n",
    "\n",
    "Functions can be applied to arrays elementwise"
   ]
  },
  {
   "cell_type": "code",
   "execution_count": 17,
   "id": "103176a4-6017-4e43-8c66-695c7129603b",
   "metadata": {
    "editable": true,
    "slideshow": {
     "slide_type": "fragment"
    },
    "tags": []
   },
   "outputs": [
    {
     "name": "stdout",
     "output_type": "stream",
     "text": [
      "M is\n",
      " [[0 1]\n",
      " [1 0]]\n",
      "The elements of M squared are \n",
      " [[0 1]\n",
      " [1 0]]\n",
      "Exponentiating M elementwise gives\n",
      " [[1.         2.71828183]\n",
      " [2.71828183 1.        ]]\n"
     ]
    }
   ],
   "source": [
    "print('M is\\n', M)\n",
    "print('The elements of M squared are \\n', M**2)\n",
    "print('Exponentiating M elementwise gives\\n', np.exp(M))"
   ]
  },
  {
   "cell_type": "code",
   "execution_count": 18,
   "id": "aef33f2e-42b6-4276-9ab1-3edfb74a497e",
   "metadata": {
    "editable": true,
    "slideshow": {
     "slide_type": "slide"
    },
    "tags": []
   },
   "outputs": [
    {
     "name": "stdout",
     "output_type": "stream",
     "text": [
      "The elementwise product of [1 0] and [0 1] is [0 0]\n",
      "The elementwise product of\n",
      " [[0 1]\n",
      " [1 0]] \n",
      "and [1 0] is\n",
      " [[0 0]\n",
      " [1 0]]\n",
      "The elementwise product of\n",
      " [[0 1]\n",
      " [1 0]] \n",
      "and 2 is\n",
      " [[0 2]\n",
      " [2 0]]\n"
     ]
    }
   ],
   "source": [
    "print('The elementwise product of', u,'and',v,'is', u*v)\n",
    "print('The elementwise product of\\n', M,'\\nand',u,'is\\n', M*u)\n",
    "print('The elementwise product of\\n', M,'\\nand',2,'is\\n', M*2)"
   ]
  },
  {
   "cell_type": "markdown",
   "id": "a533b592-5ed2-4f2c-a2ed-b712f80fd23d",
   "metadata": {
    "editable": true,
    "slideshow": {
     "slide_type": "slide"
    },
    "tags": []
   },
   "source": [
    "---\n",
    "## Linear algebra\n",
    "\n",
    "The eigenvectors of a small matrix"
   ]
  },
  {
   "cell_type": "code",
   "execution_count": 19,
   "id": "5852897b-6734-484f-9612-31c6cd3e565f",
   "metadata": {
    "editable": true,
    "slideshow": {
     "slide_type": "fragment"
    },
    "tags": []
   },
   "outputs": [
    {
     "name": "stdout",
     "output_type": "stream",
     "text": [
      "The eigenvalues of M are 1.0 and -1.0\n",
      "The corresponding eigenvectors are\n",
      " [0.70710678 0.70710678] [-0.70710678  0.70710678]\n"
     ]
    }
   ],
   "source": [
    "M = np.array([[0,1],[1,0]])\n",
    "[w, U] = la.eig(M)\n",
    "print('The eigenvalues of M are', w[0], 'and', w[1])\n",
    "print('The corresponding eigenvectors are\\n', U[:,0], U[:,1])"
   ]
  },
  {
   "cell_type": "markdown",
   "id": "d3f256f4-6c6b-4878-94cc-0683a188b2bc",
   "metadata": {
    "editable": true,
    "slideshow": {
     "slide_type": "slide"
    },
    "tags": []
   },
   "source": [
    "### Discrete Laplacian\n",
    "\n",
    "The discrete Laplacian is"
   ]
  },
  {
   "cell_type": "code",
   "execution_count": 20,
   "id": "54a05ac5-3f8d-422b-89a4-47ffc46dacf2",
   "metadata": {
    "editable": true,
    "slideshow": {
     "slide_type": "fragment"
    },
    "tags": []
   },
   "outputs": [
    {
     "name": "stdout",
     "output_type": "stream",
     "text": [
      "[[-2.  1.  0.  0.  0.  0.  0.  0.  0.  0.]\n",
      " [ 1. -2.  1.  0.  0.  0.  0.  0.  0.  0.]\n",
      " [ 0.  1. -2.  1.  0.  0.  0.  0.  0.  0.]\n",
      " [ 0.  0.  1. -2.  1.  0.  0.  0.  0.  0.]\n",
      " [ 0.  0.  0.  1. -2.  1.  0.  0.  0.  0.]\n",
      " [ 0.  0.  0.  0.  1. -2.  1.  0.  0.  0.]\n",
      " [ 0.  0.  0.  0.  0.  1. -2.  1.  0.  0.]\n",
      " [ 0.  0.  0.  0.  0.  0.  1. -2.  1.  0.]\n",
      " [ 0.  0.  0.  0.  0.  0.  0.  1. -2.  1.]\n",
      " [ 0.  0.  0.  0.  0.  0.  0.  0.  1. -2.]]\n"
     ]
    }
   ],
   "source": [
    "n = 100\n",
    "up = np.ones(n-1)\n",
    "L = np.diag(up, 1)\n",
    "L = L + L.T - 2*np.eye(n)\n",
    "print(L[:10,:10])"
   ]
  },
  {
   "cell_type": "markdown",
   "id": "944c1aad-7b38-4c6a-a418-f61d1228c7d3",
   "metadata": {
    "editable": true,
    "slideshow": {
     "slide_type": "slide"
    },
    "tags": []
   },
   "source": [
    "### Largest eigenvalue\n",
    "\n",
    "The largest eigenvalue of the discrete Laplacian"
   ]
  },
  {
   "cell_type": "code",
   "execution_count": 21,
   "id": "a558e3e2-f53d-4d11-8409-2a92c3506bf3",
   "metadata": {
    "editable": true,
    "slideshow": {
     "slide_type": "fragment"
    },
    "tags": []
   },
   "outputs": [
    {
     "data": {
      "text/plain": [
       "Text(0.5, 1.0, 'Eigenvector of L with the largest eigenvalue')"
      ]
     },
     "execution_count": 21,
     "metadata": {},
     "output_type": "execute_result"
    },
    {
     "data": {
      "image/png": "[encoded data removed]",
      "text/plain": [
       "<Figure size 640x480 with 1 Axes>"
      ]
     },
     "metadata": {},
     "output_type": "display_data"
    }
   ],
   "source": [
    "[w, U] = la.eig(L)\n",
    "max_ind = np.nonzero(w == max(w))[0]\n",
    "plt.figure()\n",
    "plt.plot(U[:,max_ind])\n",
    "plt.title('Eigenvector of L with the largest eigenvalue')"
   ]
  },
  {
   "cell_type": "markdown",
   "id": "84c89849-3d2b-4c84-a1fe-9233fe90fbe8",
   "metadata": {
    "editable": true,
    "slideshow": {
     "slide_type": "slide"
    },
    "tags": []
   },
   "source": [
    "### Eigenvalue spectrum\n",
    "\n",
    "The spectrum of the discrete Laplcian"
   ]
  },
  {
   "cell_type": "code",
   "execution_count": 22,
   "id": "778446fc-1457-420f-b9ae-e3b71c849798",
   "metadata": {
    "editable": true,
    "slideshow": {
     "slide_type": "fragment"
    },
    "tags": []
   },
   "outputs": [
    {
     "data": {
      "text/plain": [
       "Text(0.5, 1.0, 'Laplacian eigenvalue spectrum')"
      ]
     },
     "execution_count": 22,
     "metadata": {},
     "output_type": "execute_result"
    },
    {
     "data": {
      "image/png": "[encoded data removed]",
      "text/plain": [
       "<Figure size 640x480 with 1 Axes>"
      ]
     },
     "metadata": {},
     "output_type": "display_data"
    }
   ],
   "source": [
    "w.sort()\n",
    "plt.figure()\n",
    "plt.plot(w)\n",
    "plt.ylabel('$lambda_n$')\n",
    "plt.xlabel('$n$')\n",
    "plt.title('Laplacian eigenvalue spectrum')"
   ]
  },
  {
   "cell_type": "markdown",
   "id": "ae43631e-e7d1-4443-9136-3215bc46b3c4",
   "metadata": {
    "editable": true,
    "slideshow": {
     "slide_type": "slide"
    },
    "tags": []
   },
   "source": [
    "### Hermetian matrices\n",
    "\n",
    "Eigenvalues of a large Hermetian random matrix"
   ]
  },
  {
   "cell_type": "code",
   "execution_count": 23,
   "id": "5d47c876-e5d1-487a-bcef-b701ac84b554",
   "metadata": {
    "editable": true,
    "slideshow": {
     "slide_type": "fragment"
    },
    "tags": []
   },
   "outputs": [
    {
     "data": {
      "text/plain": [
       "Text(0, 0.5, 'No. of levels')"
      ]
     },
     "execution_count": 23,
     "metadata": {},
     "output_type": "execute_result"
    },
    {
     "data": {
      "image/png": "[encoded data removed]",
      "text/plain": [
       "<Figure size 640x480 with 1 Axes>"
      ]
     },
     "metadata": {},
     "output_type": "display_data"
    }
   ],
   "source": [
    "seed(0)\n",
    "R = normal(0,1,(1000,1000))\n",
    "R = (R + R.conj().T)/2\n",
    "[w, U] = la.eig(R)\n",
    "plt.figure()\n",
    "plt.hist(w, bins = 30)\n",
    "plt.xlabel('Energy')\n",
    "plt.ylabel('No. of levels')"
   ]
  },
  {
   "cell_type": "markdown",
   "id": "0de78541-4365-4710-9a2a-144cb5bc0513",
   "metadata": {
    "editable": true,
    "slideshow": {
     "slide_type": "slide"
    },
    "tags": []
   },
   "source": [
    "---\n",
    "## Some words of caution\n",
    "\n",
    "Python is syntactically simple but it achieves this by hiding a lot of underlying details. This is perfect if the goal is to focus on implementing physical models.\n",
    "\n",
    "However, sometimes the hidden object-oriented structure of Python can lead to unintended consequences which are very difficult to track down.\n",
    "\n",
    "Here, we illustrate the concept using NumPy arrays, but similar (but not identical) issues are present for lists."
   ]
  },
  {
   "cell_type": "markdown",
   "id": "6d92806f-3f2c-4ed1-b9fa-73c6a907c093",
   "metadata": {
    "editable": true,
    "slideshow": {
     "slide_type": "slide"
    },
    "tags": []
   },
   "source": [
    "---\n",
    "A common source of unintended consequences is copying"
   ]
  },
  {
   "cell_type": "code",
   "execution_count": 24,
   "id": "4ea49acd-ec01-4f95-aab7-690c1e955efc",
   "metadata": {
    "editable": true,
    "slideshow": {
     "slide_type": "fragment"
    },
    "tags": []
   },
   "outputs": [
    {
     "name": "stdout",
     "output_type": "stream",
     "text": [
      "a:  [99  2  3]\n",
      "b:  [99  2  3]\n"
     ]
    }
   ],
   "source": [
    "import numpy as np \n",
    "\n",
    "# original array\n",
    "a = np.array([1,2,3])\n",
    "\n",
    "# copy array a to array b\n",
    "b = a\n",
    "\n",
    "# modify first element of b\n",
    "b[0] = 99\n",
    "\n",
    "print(\"a: \", a)\n",
    "print(\"b: \", b)\n"
   ]
  },
  {
   "cell_type": "markdown",
   "id": "a4096148-3913-4ef1-abef-60e8e0458add",
   "metadata": {
    "editable": true,
    "slideshow": {
     "slide_type": "slide"
    },
    "tags": []
   },
   "source": [
    "---\n",
    "Although only the first element of array _b_ was changed, the first element of array _a_ was also changed\n",
    "\n",
    "The reason for this behaviour is because an array is a Python object and the variable _a_ is a pointer to a (contiguous) block of memory where the raw data lives. When you do _a=b_, you're copying the object pointer, not the data. So _a_ and _b_ point to the same block of memory storing the data.\n",
    "\n",
    "The following low-level array command displays the memory address at the start of the array objects's data buffer, which is essentially the (hexadecimal) pointer that _a_ contains. "
   ]
  },
  {
   "cell_type": "code",
   "execution_count": 25,
   "id": "2a8b6a23-9860-4f11-80a5-f4ac7dca4c5a",
   "metadata": {
    "editable": true,
    "slideshow": {
     "slide_type": "fragment"
    },
    "tags": []
   },
   "outputs": [
    {
     "name": "stdout",
     "output_type": "stream",
     "text": [
      "pointer:  0x107807ba0\n"
     ]
    }
   ],
   "source": [
    "pointer = a.__array_interface__['data'][0]\n",
    "print(\"pointer: \",hex(pointer))"
   ]
  },
  {
   "cell_type": "markdown",
   "id": "bce070d8-607c-4932-b8fc-d4398663dd26",
   "metadata": {
    "editable": true,
    "slideshow": {
     "slide_type": "slide"
    },
    "tags": []
   },
   "source": [
    "---\n",
    "If you really need to copy the contents of an array a use the .copy() command"
   ]
  },
  {
   "cell_type": "code",
   "execution_count": 26,
   "id": "3bf60056-6190-4a88-b00a-1b13dc3381c3",
   "metadata": {
    "editable": true,
    "slideshow": {
     "slide_type": "fragment"
    },
    "tags": []
   },
   "outputs": [
    {
     "name": "stdout",
     "output_type": "stream",
     "text": [
      "a:  [1 2 3]\n",
      "b:  [99  2  3]\n"
     ]
    }
   ],
   "source": [
    "import numpy as np \n",
    "\n",
    "# original array\n",
    "a = np.array([1,2,3])\n",
    "\n",
    "# copy array a to array b\n",
    "b = a.copy() # b now has its own copy of the data\n",
    "\n",
    "# modify first element of b\n",
    "b[0] = 99\n",
    "\n",
    "print(\"a: \", a)\n",
    "print(\"b: \", b)\n"
   ]
  },
  {
   "cell_type": "markdown",
   "id": "3970da48-a30c-4493-9db6-8d65315cdb21",
   "metadata": {
    "editable": true,
    "slideshow": {
     "slide_type": "slide"
    },
    "tags": []
   },
   "source": [
    "---\n",
    "## Advanced features\n",
    "\n",
    "These features are not really within the scope of this module but may be suggested to you as solutions to GenAI queries\n",
    "\n",
    "1. Broadcasting\n",
    "\n",
    "Lets you do math with arrays of different shapes.\n",
    "Example: Add a single number to every element in a matrix—no loop needed!"
   ]
  },
  {
   "cell_type": "code",
   "execution_count": 27,
   "id": "69d7d302-e126-46d3-a5af-dc0fec1d6354",
   "metadata": {
    "editable": true,
    "slideshow": {
     "slide_type": "fragment"
    },
    "tags": []
   },
   "outputs": [
    {
     "name": "stdout",
     "output_type": "stream",
     "text": [
      "[11 12 13]\n"
     ]
    }
   ],
   "source": [
    "import numpy as np\n",
    "\n",
    "a = np.array([1, 2, 3])\n",
    "b = 10\n",
    "\n",
    "result = a + b\n",
    "print(result)"
   ]
  },
  {
   "cell_type": "markdown",
   "id": "f4643aa2-e99c-4552-a373-366da8b19926",
   "metadata": {
    "editable": true,
    "slideshow": {
     "slide_type": "slide"
    },
    "tags": []
   },
   "source": [
    "What’s Happening?\n",
    "\n",
    "a is a 1D array: [1, 2, 3]\n",
    "\n",
    "b is a scalar: 10\n",
    "\n",
    "NumPy broadcasts b across every element of a, as if it were [10, 10, 10]"
   ]
  },
  {
   "cell_type": "markdown",
   "id": "cbae8b33-c09f-4665-805b-3e9b8a02d306",
   "metadata": {
    "editable": true,
    "slideshow": {
     "slide_type": "slide"
    },
    "tags": []
   },
   "source": [
    "---\n",
    "2. Fancy Indexing\n",
    "\n",
    "Use lists or conditions to pick specific elements.\n",
    "Example: a[a > 5] gives all values greater than 5.\n",
    "\n",
    "3. Masked Arrays\n",
    "\n",
    "Hide or ignore bad/missing data.\n",
    "Example: Useful when some sensor readings are broken.\n",
    "\n",
    "4. Structured Arrays\n",
    "\n",
    "Like a spreadsheet: each row can have named columns with different types.\n",
    "Example: student[\"name\"], student[\"grade\"].\n",
    "\n",
    "5. Memory Mapping\n",
    "\n",
    "Work with huge files without loading everything into memory.\n",
    "Great for big datasets or simulations.\n",
    "\n"
   ]
  },
  {
   "cell_type": "markdown",
   "id": "087a0bac-3e9d-4b7c-8d42-ee81175c8900",
   "metadata": {
    "editable": true,
    "slideshow": {
     "slide_type": "slide"
    },
    "tags": []
   },
   "source": [
    "---\n",
    "## When NumPy arrays should not be used\n",
    "\n",
    "1. Non-Numerical Data\n",
    "NumPy arrays are optimized for numerical data. If you're working with:\n",
    "\n",
    "    Strings of varying lengths\n",
    "   \n",
    "    Complex objects or mixed types\n",
    "   \n",
    "    Nested or hierarchical data\n",
    "\n",
    "Use Python lists, dictionaries, or Pandas DataFrames instead."
   ]
  },
  {
   "cell_type": "markdown",
   "id": "e67dbbe8-279f-4cb3-a741-f9a5abf0a9a4",
   "metadata": {
    "editable": true,
    "slideshow": {
     "slide_type": "slide"
    },
    "tags": []
   },
   "source": [
    "---\n",
    "2. Dynamic Data Structures\n",
    "\n",
    "NumPy arrays have a fixed size. If you need:\n",
    "\n",
    "    Frequent resizing (e.g., appending/removing elements)\n",
    "    \n",
    "    Dynamic typing or structure\n",
    "\n",
    "Use lists or other Python collections.\n"
   ]
  },
  {
   "cell_type": "markdown",
   "id": "0b95fd34-e1fb-4501-a4de-ae5f4725861b",
   "metadata": {
    "editable": true,
    "slideshow": {
     "slide_type": "slide"
    },
    "tags": []
   },
   "source": [
    "---\n",
    "3. Sparse Data\n",
    "   \n",
    "If your data contains mostly zeros (e.g., in large matrices):\n",
    "\n",
    "    NumPy arrays will waste memory.\n",
    "\n",
    "Use SciPy’s sparse matrix types like csr_matrix or csc_matrix.\n"
   ]
  },
  {
   "cell_type": "markdown",
   "id": "8b9fd305-b0a1-44dd-a651-ed6a5750cf4a",
   "metadata": {
    "editable": true,
    "slideshow": {
     "slide_type": "slide"
    },
    "tags": []
   },
   "source": [
    "---\n",
    "4. High-Level Data Analysis\n",
    "   \n",
    "For labeled data, missing values, or mixed types:\n",
    "\n",
    "    NumPy lacks built-in support for column names, indexing, and missing values.\n",
    "\n",
    "Use Pandas, which builds on NumPy but adds these features."
   ]
  }
 ],
 "metadata": {
  "kernelspec": {
   "display_name": "Python 3",
   "language": "python",
   "name": "python3"
  },
  "language_info": {
   "codemirror_mode": {
    "name": "ipython",
    "version": 3
   },
   "file_extension": ".py",
   "mimetype": "text/x-python",
   "name": "python",
   "nbconvert_exporter": "python",
   "pygments_lexer": "ipython3",
   "version": "3.9.6"
  }
 },
 "nbformat": 4,
 "nbformat_minor": 5
}
