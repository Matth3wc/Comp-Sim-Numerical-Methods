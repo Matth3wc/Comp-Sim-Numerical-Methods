{
 "cells": [
  {
   "cell_type": "markdown",
   "metadata": {
    "editable": true,
    "slideshow": {
     "slide_type": "slide"
    },
    "tags": []
   },
   "source": [
    "---\n",
    "# Lab 1. Optimizing memory and execution speed of Python code with GenAI\n",
    "\n",
    "**PUY33C01 Computational Simulation I - Computational Physics (Christie)**\t\t\t\t\t"
   ]
  },
  {
   "cell_type": "markdown",
   "metadata": {},
   "source": [
    "---\n",
    "## What are the objectives of this lab?\n",
    "\n",
    "* Interact with a Generative AI assistant (GenAI) to debug benchmark Python code\n",
    "* Understand the consequences of not questioning AI-generated solutions\n",
    "* Use GenAI as a tutor to understand the trade-offs between memory and speed\n",
    "* Use GenAI to assess how different data structures impact performance\n",
    "* Assess an improved programming solution for the benchmark code suggested by GenAI"
   ]
  },
  {
   "cell_type": "markdown",
   "metadata": {},
   "source": [
    "---\n",
    "## Introduction\n",
    "\n",
    "### Goals\n",
    "* In this lab you will interact with a Generative AI assistant (GenAI) to debug and improve the performance of a simple program. \n",
    "\n",
    "* GenAI will also effectively play the role of a tutor, and you are encouraged interact with it to understand the pros and cons of using two different data structures to implement the program.\n",
    " "
   ]
  },
  {
   "cell_type": "markdown",
   "metadata": {},
   "source": [
    "---\n",
    "Take note:\n",
    "\n",
    "* GenAI can help you understand, write and improve code, but it is important to review, test, and understand all suggestions. It can and does make mistakes or suggest sub-optimal solutions.\n",
    "* It is your responsibility to catch these mistakes. In fact, one of the primary purposes of this lab is to gain experience in catching errors suggested by GenAI code assistants.\n",
    "* University policy requires you to comment in your code and in your report where GenAI made a significant contribution or change. However, in this lab you are required to use GenAI in formulating your answers and so this declaration is not needed.\n",
    "* University policy encourages you to use Copilot which is part of the Microsoft 365 platform available to TCD students.\n",
    "  "
   ]
  },
  {
   "cell_type": "markdown",
   "metadata": {},
   "source": [
    "---  \n",
    "### Lab structure and assignment\n",
    "\n",
    "The lab is divided into four tasks:\n",
    "\n",
    "1. Correct errors in a Python program and obtain working code compliant with a set of program specifications.\n",
    "2. Add code to the program to correctly measure execution time and memory usage.\n",
    "3. Measure potential improvements to memory usage and execution time speed by changing from _lists_ to _arrays_ to store data, while retaining the overall program structure.\n",
    "4. Give GenAI the freedom to suggest the best overall structure and data types for the program to maximise performance, consistent with a set of updated program specifications.\n",
    "\n",
    "You will have an assigmnent to write a report on this lab. The report should not be structured as a list of responses to the four tasks. It should be a reflection of what you have learned and the tasks should be used as a mechanism to generate data to support your reasoning. More details for the report structure are provided in the assignment document."
   ]
  },
  {
   "cell_type": "markdown",
   "metadata": {},
   "source": [
    "---  \n",
    "### Lists and arrays\n",
    "\n",
    "The focus of this lab is on the trade-offs between two of the most commonly used data structures in scientific computing: _lists_ and _arrays_.  Superficially, both data structures look very similar and are created by enclosing data within square parentheses\n",
    "```python\n",
    "list1 = [0,1,2,3]\n",
    "\n",
    "import numpy as np\n",
    "array1 = np.array([0,1,2,3])\n",
    "```\n",
    "but the selection of one over the other can have dramatic consequences both memory usage and execution speed. In this lab we shall restrict ourselves to the trade-offs for storing and processing integer data, but the principles have general applicability."
   ]
  },
  {
   "cell_type": "markdown",
   "metadata": {},
   "source": [
    "---\n",
    "## Task 1\n",
    "### The scenario\n",
    "\n",
    "You have recently been hired by Tyrell Code Development (TCD) as a Python programmer. Tyrell has a contract with an important client and you have been assigned to develop a sub-routine as one of the deliverables of this high-profile project.\n",
    "\n",
    "The purpose of the sub-routine is to generate a 2D, list-based lookup table and the specifications provided by the client are:\n",
    "\n",
    "1. The sub-routine _listfun1_ calculates the function $y=x^b$ for three integer values of b and a range of 10 integer x-values.\n",
    "2. List-based data structures are to be used throughout.\n",
    "3. The results must be returned as a 2D structure with rows corresponding to the values of y for different values of x and columns corresponding to the values of y for different values of b."
   ]
  },
  {
   "cell_type": "markdown",
   "metadata": {},
   "source": [
    "---\n",
    "The Python code that was developed to meet these specifications is shown in the code cell below. The code documentation provided the following overview of the programming solution:\n",
    "\n",
    "For each b in the list _b_values_, the inner loop computes the values of y corresponding to the range of x values and appends the result to a 1D list _row_. The outer loop progresses through the different values of b in the list _b_values_, and each new _row_ is appended to the 2D list _results_.\n",
    "\n",
    "Unfortunately, the code does not run. The (now ex-) colleague who wrote the code has left the company to pursue external challenges.\n",
    "\n",
    "The client is very unhappy. Your manager is also very unhappy. His large bonus is dependent on delivering working code on time and according to the client's specifications. He has no experience with programming in Python, and you have recently discovered he does not have a technical background at all."
   ]
  },
  {
   "cell_type": "markdown",
   "metadata": {},
   "source": [
    "Given:"
   ]
  },
  {
   "cell_type": "code",
   "execution_count": 1,
   "metadata": {},
   "outputs": [
    {
     "ename": "NameError",
     "evalue": "name 'row' is not defined",
     "output_type": "error",
     "traceback": [
      "\u001b[0;31m---------------------------------------------------------------------------\u001b[0m",
      "\u001b[0;31mNameError\u001b[0m                                 Traceback (most recent call last)",
      "Cell \u001b[0;32mIn[1], line 15\u001b[0m\n\u001b[1;32m     12\u001b[0m         results\u001b[38;5;241m.\u001b[39mappend(row)\n\u001b[1;32m     13\u001b[0m     \u001b[38;5;28;01mreturn\u001b[39;00m results\n\u001b[0;32m---> 15\u001b[0m results \u001b[38;5;241m=\u001b[39m \u001b[43mlistfun1\u001b[49m\u001b[43m(\u001b[49m\u001b[43mx_values\u001b[49m\u001b[43m,\u001b[49m\u001b[43mb_values\u001b[49m\u001b[43m)\u001b[49m\n\u001b[1;32m     17\u001b[0m \u001b[38;5;28mprint\u001b[39m(\u001b[38;5;124m'\u001b[39m\u001b[38;5;124mrows =\u001b[39m\u001b[38;5;124m'\u001b[39m,\u001b[38;5;28mlen\u001b[39m(results))\n\u001b[1;32m     18\u001b[0m \u001b[38;5;28mprint\u001b[39m(\u001b[38;5;124m'\u001b[39m\u001b[38;5;124mcols = \u001b[39m\u001b[38;5;124m'\u001b[39m,\u001b[38;5;28mlen\u001b[39m(results[\u001b[38;5;241m0\u001b[39m]))\n",
      "Cell \u001b[0;32mIn[1], line 11\u001b[0m, in \u001b[0;36mlistfun1\u001b[0;34m(x_values, b_values)\u001b[0m\n\u001b[1;32m      9\u001b[0m     \u001b[38;5;28;01mfor\u001b[39;00m x \u001b[38;5;129;01min\u001b[39;00m x_values:\n\u001b[1;32m     10\u001b[0m         y \u001b[38;5;241m=\u001b[39m x\u001b[38;5;241m*\u001b[39mb\n\u001b[0;32m---> 11\u001b[0m         \u001b[43mrow\u001b[49m\u001b[38;5;241m.\u001b[39mappend(y)           \n\u001b[1;32m     12\u001b[0m     results\u001b[38;5;241m.\u001b[39mappend(row)\n\u001b[1;32m     13\u001b[0m \u001b[38;5;28;01mreturn\u001b[39;00m results\n",
      "\u001b[0;31mNameError\u001b[0m: name 'row' is not defined"
     ]
    }
   ],
   "source": [
    "import matplotlib.pyplot as plt\n",
    "\n",
    "x_values = list(range(10))\n",
    "b_values = [1,2,3]\n",
    "\n",
    "def listfun1(x_values, b_values):\n",
    "    results = []\n",
    "    for b in b_values:   \n",
    "        for x in x_values:\n",
    "            y = x*b\n",
    "            row.append(y)           \n",
    "        results.append(row)\n",
    "    return results\n",
    "\n",
    "results = listfun1(x_values,b_values)\n",
    "\n",
    "print('rows =',len(results))\n",
    "print('cols = ',len(results[0]))\n",
    "\n",
    "plt.plot(results)"
   ]
  },
  {
   "cell_type": "markdown",
   "metadata": {},
   "source": [
    "Corrected Version"
   ]
  },
  {
   "cell_type": "code",
   "execution_count": 2,
   "metadata": {},
   "outputs": [
    {
     "name": "stdout",
     "output_type": "stream",
     "text": [
      "rows = 3\n",
      "cols = 10\n"
     ]
    },
    {
     "data": {
      "image/png": "[encoded data removed]",
      "text/plain": [
       "<Figure size 640x480 with 1 Axes>"
      ]
     },
     "metadata": {},
     "output_type": "display_data"
    }
   ],
   "source": [
    "import matplotlib.pyplot as plt\n",
    "\n",
    "x_values = list(range(10))\n",
    "b_values = [1, 2, 3]\n",
    "\n",
    "def listfun1(x_values, b_values):\n",
    "    results = []  # Initialize the 2D list to store results\n",
    "    for b in b_values:   \n",
    "        row = []  # Initialize a new row for each value of b\n",
    "        for x in x_values:\n",
    "            y = x ** b  # Corrected the formula to calculate x^b\n",
    "            row.append(y)  # Append the calculated value to the row\n",
    "        results.append(row)  # Append the row to the results\n",
    "    return results\n",
    "\n",
    "results = listfun1(x_values, b_values)\n",
    "\n",
    "print('rows =', len(results))  # Number of rows corresponds to the number of b values\n",
    "print('cols =', len(results[0]))  # Number of columns corresponds to the number of x values\n",
    "\n",
    "# Transpose the results to match the plotting requirements\n",
    "transposed_results = list(map(list, zip(*results)))\n",
    "\n",
    "plt.plot(transposed_results)\n",
    "plt.xlabel('x values')\n",
    "plt.ylabel('y values')\n",
    "plt.title('Plot of y = x^b for different b values')\n",
    "plt.legend([f'b={b}' for b in b_values])\n",
    "plt.show()"
   ]
  },
  {
   "cell_type": "markdown",
   "metadata": {},
   "source": [
    "---\n",
    "### Action items\n",
    "\n",
    "Find the errors in this program. These may include errors which prevent the execution of the program but also may include errors in implementing the client's specifications.\n",
    "\n",
    "The goal is to get the code running according to the client's specifications, not to change its structure: the inner and outer list-based loops are to be retained. The basic plotting function and print statements are also to be retained as their purpose is to provide quick checks that the code is functioning as specified. They will not be needed in later tasks.\n",
    "\n",
    "It is therefore important to inform your GenAI coding assistant of the client's specifications before trying to fix the code. Pay careful attention to constructing prompts to guide the GenAI assistant into providing working, specification-compliant code.\n",
    "\n",
    "You will use the corrected code as performance benchmark to compare with other programming approaches and there is significant overhead associated with running the code within a notebook. Place your corrected code in a separate Python file _listfun1.py_ and run it directly from within Spyder or from a terminal. Run the code several times, and note the last set of performance parameters."
   ]
  },
  {
   "cell_type": "markdown",
   "metadata": {},
   "source": [
    "---\n",
    "## Task 2\n",
    "### The scenario\n",
    "\n",
    "The client is still very unhappy. Although now functioning correctly, when embedded as a call within the client's main program, the function _listfun1_ uses too much memory and the execution time is too long. This was because the client now requires a range 1,000 x-values to be used and not the range of 10 values originally specified in the contract."
   ]
  },
  {
   "cell_type": "markdown",
   "metadata": {},
   "source": [
    "### Action items\n",
    "\n",
    "#### Action item 2A.\n",
    "\n",
    "Copy the corrected, working code from listfun1.py to listfun2a.py and change the name of the function to listfun2a. Update the code to:\n",
    "* Increase the range of x-values from the original 10 to 1,000.\n",
    "* Delete (or comment out) the plotting function and the row and column print statements. You can therefore delete the line\n",
    "```python\n",
    "import matplotlib.pyplot as plt\n",
    "```\n",
    "\n",
    "* To check the validity of the client's concerns, use GenAI to make suggestions for using start and end timing commands to capture the execution time of  _listfun2a_ in milliseconds (ms) by importing and using timing commands from the _time_ library.\n",
    "\n",
    "* To make sure you emphasise memory efficiency in your code, the client has \"suggested\" you use the function _sys.getsizeof(results)_ to measure the memory used by _results_ in bytes (this function must be imported as part of the _sys_ library). Discuss with your GenAI assistant how to implement the client's \"suggestion\".\n",
    "\n",
    "Run _listfun2a.py_ and note the execution speed and memory usage to the nearest millisecond and kB (1 kB = 1024 bytes). Run the code several times, and note the last set of performance parameters.\n",
    "\n",
    "#### Action item 2B\n",
    "\n",
    "Fortunately, a colleague passed by your desk and pointed out that using  _sys.getsizeof(results)_ to determine memory usage only returns the memory size of the outer list, referred to as shallow memory. This value is constructed from the sum of the pointers to memory locations stored in _results_ and not the values stored in the memory locations themselves. This will grossly underestimate the actual memory usage. Fortunately, you did not share the results of the flawed memory evaluation with your client or manager.\n",
    "\n",
    "Use your GenAI assistant to come up with suggestions to correctly evaluate the memory usage for the list _results_.This should be the sum of the memory used for pointers (which includes some small overhead) and data. Place your corrected code in listfun2b.py and run the code several times, and note the last set of performance parameters. You might observe that the execution time is significantly different than that produced by executing the code within the code cell."
   ]
  },
  {
   "cell_type": "markdown",
   "metadata": {},
   "source": [
    "## Task 3\n",
    "### The scenario\n",
    "\n",
    "Delivery of the correct evaluation of execution time and memory usage using _listfun2b_ has confirmed the client's concerns. Your program clearly no longer meets the revised memory specifications of the client.\n",
    "\n",
    "Your ever-helpful colleague has suggested that the only way to meet the revised specifications is if you switch from a list-based approach to an array-based approach, using arrays from the _NumPy_ library.\n",
    "\n",
    "Lists and arrays look very similar but possess fundamentally different trade-offs. Your colleague assures you that array-based approaches are widely used for scientific computing as they offer the possibility of increased speed and lower memory.\n",
    "\n",
    "Unfortunately, you are not familiar with array-based programming but your colleague quickly converts your list-based code in _listfun2b.py_ to an equivalent array-based version for you. The code structure is the same but the array initialization commands are subtly different and memory usage is measured with a different _NumPy_ array command.  You were grateful for your colleague's help in getting you out of a difficult situation.\n",
    "\n",
    "Your colleague's array-based code for the function _arrayfun3_ is shown below, as well as the output. Compare this with the list-based code _listfun2b.py to confirm the approaches are broadly similar. \n",
    "\n",
    "### Action item\n",
    "\n",
    "#### Action 3b\n",
    "The code should be placed in the file _arrayfun3.py_ and run within Sypder or a terminal to obtain a definitive set of performance parameters. Run the code several times, and note the last set of performance parameters."
   ]
  },
  {
   "cell_type": "code",
   "execution_count": null,
   "metadata": {},
   "outputs": [
    {
     "name": "stdout",
     "output_type": "stream",
     "text": [
      "Execution time =  17  ms\n",
      "Pointer usage = 24 kB\n",
      "Memory usage = 8 kB\n",
      "Total memory usage =  31 kB\n"
     ]
    }
   ],
   "source": [
    "import numpy as np\n",
    "import time\n",
    "import sys\n",
    "\n",
    "x_values = list(range(1_000))\n",
    "b_values = [1,2,3]\n",
    "\n",
    "def arrayfun3(x_values,b_values):\n",
    "    # initialize 2D array results, with fixed number of columns but no rows yet\n",
    "    array_results = np.empty((0,len(b_values)))\n",
    "    for x in x_values:\n",
    "        # initialize empty 1D array, row\n",
    "        row = np.empty((0,))\n",
    "        for b in b_values:\n",
    "            y = x**b\n",
    "            row = np.append(row,y)\n",
    "        array_results = np.append(array_results,[row],axis=0)\n",
    "    return array_results \n",
    "\n",
    "start_time = time.time()\n",
    "array_results = arrayfun3(x_values,b_values)\n",
    "end_time = time.time()\n",
    "\n",
    "execution_time = (end_time-start_time)\n",
    "print('Execution time = ', round(execution_time*1000),' ms')\n",
    "\n",
    "array_pointer_size = sys.getsizeof(array_results)\n",
    "array_memory_size = 1_000*array_results.itemsize\n",
    "\n",
    "print('Pointer usage =',round(array_pointer_size/1024),'kB')\n",
    "print('Memory usage =',round(array_memory_size/(1024)),'kB')\n",
    "print('Total memory usage = ',round((array_pointer_size + array_memory_size)/(1024)),'kB')"
   ]
  },
  {
   "cell_type": "markdown",
   "metadata": {},
   "source": [
    "## Task4\n",
    "### The scenario\n",
    "\n",
    "The reduction in memory usage using an array-based approach made your manager very happy with you, and the array-based code _arrayfun3.py_ was delivered to the client. \n",
    "\n",
    "Unfortunately, internal analysis at the client site showed that the execution speed was much lower than the list-based approach of _listfun2b.py_.\n",
    "\n",
    "Your client is considering cancelling the contract."
   ]
  },
  {
   "cell_type": "markdown",
   "metadata": {},
   "source": [
    "### Action items\n",
    "\n",
    "#### Action 4a\n",
    "\n",
    "Time is now of the essence to avoid late delivery penalties.\n",
    "\n",
    "Your helpful colleague is no longer replying to your emails. Ask your GenAI assistant why the memory usage was reduced but the speed potential of an array-based approach was not realized.\n",
    "\n",
    "#### Action 4b\n",
    "\n",
    "Ask GenAI to dramatically improve _arrayfun3.py_ using any means possible. This GenAI code should be placed in _arrayfun4.py_ and name the function should be _arrayfun4_. Although you can give your GenAI assistant complete freedom to choose the coding approach, after quite a tense Teams call, the resulting code has to be consistent with an updated client specifications list:\n",
    "\n",
    "1. The sub-routine _arrayfun4_ calculates the function $y=x^b$ for three integer values of b and a range of 1,000 integer x-values.\n",
    "2. Array-based data structures are to be used throughout.\n",
    "3. The original outer- and inner-loop structures do not need to be retained.\n",
    "4. The results must be returned as a 2D structure with rows corresponding to the different values of x and columns corresponding to the different values of b.\n",
    "\n",
    "Evaluate the execution speed and memory usage.Run the code several times, and note the last set of performance parameters."
   ]
  }
 ],
 "metadata": {
  "kernelspec": {
   "display_name": "Python 3",
   "language": "python",
   "name": "python3"
  },
  "language_info": {
   "codemirror_mode": {
    "name": "ipython",
    "version": 3
   },
   "file_extension": ".py",
   "mimetype": "text/x-python",
   "name": "python",
   "nbconvert_exporter": "python",
   "pygments_lexer": "ipython3",
   "version": "3.9.6"
  }
 },
 "nbformat": 4,
 "nbformat_minor": 4
}
