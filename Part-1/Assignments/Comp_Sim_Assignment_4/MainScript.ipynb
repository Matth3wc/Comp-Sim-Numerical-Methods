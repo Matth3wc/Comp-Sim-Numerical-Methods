{
 "cells": [
  {
   "cell_type": "markdown",
   "metadata": {},
   "source": [
    "## Task 1\n",
    "\n",
    "1. Write Python code to plot three Poisson distributions, eqn(1), for ⟨n⟩= 1, 5, 10."
   ]
  },
  {
   "cell_type": "markdown",
   "metadata": {},
   "source": []
  },
  {
   "cell_type": "markdown",
   "metadata": {},
   "source": [
    "Poisson Distribution given by,\n",
    "\n",
    " $P(n)=\\frac{\\langle n \\rangle}{n!}^ne^{-\\langle n \\rangle}$, $\\langle n \\rangle=\\Sigma^{N}_{n=0}nP(n)$"
   ]
  },
  {
   "cell_type": "code",
   "execution_count": 1,
   "metadata": {},
   "outputs": [],
   "source": [
    "import numpy as np\n",
    "import matplotlib.pyplot as plt"
   ]
  },
  {
   "cell_type": "code",
   "execution_count": 12,
   "metadata": {},
   "outputs": [],
   "source": [
    "def factorial(n):\n",
    "    if n == 0 or n == 1:\n",
    "        return 1\n",
    "    else:\n",
    "        return n * factorial(n - 1)\n",
    "\n",
    "def avg_n(N,L):\n",
    "    avg_n_val=N*(1/L)\n",
    "    return avg_n_val\n",
    "\n",
    "\n",
    "def p(n,N,L):\n",
    "    if factorial(n) == \"inf\":\n",
    "        return 0\n",
    "    else:\n",
    "        p = ((avg_n(N,L)**n)/factorial(n)) * np.exp(-avg_n(N,L))\n",
    "        return "
   ]
  },
  {
   "cell_type": "code",
   "execution_count": 13,
   "metadata": {},
   "outputs": [
    {
     "name": "stdout",
     "output_type": "stream",
     "text": [
      "[  1   2   3   4   5   6   7   8   9  10  11  12  13  14  15  16  17  18\n",
      "  19  20  21  22  23  24  25  26  27  28  29  30  31  32  33  34  35  36\n",
      "  37  38  39  40  41  42  43  44  45  46  47  48  49  50  51  52  53  54\n",
      "  55  56  57  58  59  60  61  62  63  64  65  66  67  68  69  70  71  72\n",
      "  73  74  75  76  77  78  79  80  81  82  83  84  85  86  87  88  89  90\n",
      "  91  92  93  94  95  96  97  98  99 100]\n",
      "5.0\n",
      "[None, None, None, None, None, None, None, None, None, None, None, None, None, None, None, None, None, None, None, None, None, None, None, None, None, None, None, None, None, None, None, None, None, None, None, None, None, None, None, None, None, None, None, None, None, None, None, None, None, None, None, None, None, None, None, None, None, None, None, None, None, None, None, None, None, None, None, None, None, None, None, None, None, None, None, None, None, None, None, None, None, None, None, None, None, None, None, None, None, None, None, None, None, None, None, None, None, None, None, None]\n"
     ]
    },
    {
     "name": "stderr",
     "output_type": "stream",
     "text": [
      "/var/folders/1j/0q6grdh110z1c008s2nrczkm0000gn/T/ipykernel_30685/3768459898.py:5: RuntimeWarning: overflow encountered in scalar multiply\n",
      "  return n * factorial(n - 1)\n",
      "/var/folders/1j/0q6grdh110z1c008s2nrczkm0000gn/T/ipykernel_30685/3768459898.py:16: RuntimeWarning: divide by zero encountered in scalar divide\n",
      "  p = ((avg_n(N,L)**n)/factorial(n)) * np.exp(-avg_n(N,L))\n"
     ]
    },
    {
     "ename": "TypeError",
     "evalue": "'int' object is not subscriptable",
     "output_type": "error",
     "traceback": [
      "\u001b[0;31m---------------------------------------------------------------------------\u001b[0m",
      "\u001b[0;31mTypeError\u001b[0m                                 Traceback (most recent call last)",
      "Cell \u001b[0;32mIn[13], line 16\u001b[0m\n\u001b[1;32m      9\u001b[0m \u001b[38;5;28mprint\u001b[39m(p_values)\n\u001b[1;32m     11\u001b[0m \u001b[38;5;124;03m'''for n in ns:\u001b[39;00m\n\u001b[1;32m     12\u001b[0m \u001b[38;5;124;03m    p_value = p(n, N, L)\u001b[39;00m\n\u001b[1;32m     13\u001b[0m \u001b[38;5;124;03m    plt.plot(n, p_values, marker='o', label=f'N={N}')'''\u001b[39;00m\n\u001b[0;32m---> 16\u001b[0m plt\u001b[38;5;241m.\u001b[39mplot(ns, p_values, marker\u001b[38;5;241m=\u001b[39m\u001b[38;5;124m'\u001b[39m\u001b[38;5;124mo\u001b[39m\u001b[38;5;124m'\u001b[39m, label\u001b[38;5;241m=\u001b[39m\u001b[38;5;124mf\u001b[39m\u001b[38;5;124m'\u001b[39m\u001b[38;5;124mN=\u001b[39m\u001b[38;5;132;01m{\u001b[39;00mN_values[\u001b[38;5;241m0\u001b[39m]\u001b[38;5;132;01m}\u001b[39;00m\u001b[38;5;124m'\u001b[39m)\n\u001b[1;32m     17\u001b[0m plt\u001b[38;5;241m.\u001b[39mtitle(\u001b[38;5;124m'\u001b[39m\u001b[38;5;124mPoisson Distribution of Particles in a Subvolume\u001b[39m\u001b[38;5;124m'\u001b[39m)\n\u001b[1;32m     18\u001b[0m plt\u001b[38;5;241m.\u001b[39mxlabel(\u001b[38;5;124m'\u001b[39m\u001b[38;5;124mNumber of Particles (n)\u001b[39m\u001b[38;5;124m'\u001b[39m)\n",
      "\u001b[0;31mTypeError\u001b[0m: 'int' object is not subscriptable"
     ]
    },
    {
     "data": {
      "text/plain": [
       "<Figure size 1000x600 with 0 Axes>"
      ]
     },
     "metadata": {},
     "output_type": "display_data"
    }
   ],
   "source": [
    "plt.figure(figsize=(10, 6))\n",
    "N = 100\n",
    "L = 20\n",
    "ns = np.arange(1, N+1)\n",
    "print(ns)\n",
    "p_values = [p(n, N, L) for n in ns]\n",
    "print(avg_n(N,L))\n",
    "\n",
    "print(p_values)\n",
    "\n",
    "'''for n in ns:\n",
    "    p_value = p(n, N, L)\n",
    "    plt.plot(n, p_values, marker='o', label=f'N={N}')'''\n",
    "\n",
    "\n",
    "plt.plot(ns, p_values, marker='o', label=f'N={N_values[0]}')\n",
    "plt.title('Poisson Distribution of Particles in a Subvolume')\n",
    "plt.xlabel('Number of Particles (n)')\n",
    "plt.ylabel('Probability P(n; N, L)')\n",
    "plt.legend()\n",
    "plt.grid()\n",
    "plt.show()"
   ]
  },
  {
   "cell_type": "code",
   "execution_count": null,
   "metadata": {},
   "outputs": [],
   "source": []
  }
 ],
 "metadata": {
  "kernelspec": {
   "display_name": "Python 3",
   "language": "python",
   "name": "python3"
  },
  "language_info": {
   "codemirror_mode": {
    "name": "ipython",
    "version": 3
   },
   "file_extension": ".py",
   "mimetype": "text/x-python",
   "name": "python",
   "nbconvert_exporter": "python",
   "pygments_lexer": "ipython3",
   "version": "3.9.6"
  }
 },
 "nbformat": 4,
 "nbformat_minor": 2
}
