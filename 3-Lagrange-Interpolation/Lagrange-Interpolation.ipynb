{
 "cells": [
  {
   "cell_type": "markdown",
   "metadata": {},
   "source": [
    "Given a discrete data set $(x_i,y_i)$ the aim is to find a polynomial p(x) that passes through\n",
    "all these points.\n",
    "\n",
    "Alternative formulation of this problem: aim is to approximate a function f(x)\n",
    "by a polynomial p(x). All one knows about f(x) are its values $y_i = f(x_i)$ at\n",
    "points xi.\n",
    "\n",
    "For two points the connecting straight line is given by $p(x) = yi + \\frac{y_{i+1}−y_i}\n",
    "{x_{i+1}−x_i} (x−x_i)$,for $x_i≤x≤xi+1$."
   ]
  },
  {
   "cell_type": "markdown",
   "metadata": {},
   "source": []
  }
 ],
 "metadata": {
  "language_info": {
   "name": "python"
  }
 },
 "nbformat": 4,
 "nbformat_minor": 2
}
